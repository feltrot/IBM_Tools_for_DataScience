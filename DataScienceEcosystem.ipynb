{
 "cells": [
  {
   "cell_type": "markdown",
   "id": "b81d9ec7-1ff6-4bf4-8be2-06749ad90b57",
   "metadata": {},
   "source": [
    "# Data Science Tools and Ecosystem"
   ]
  },
  {
   "cell_type": "markdown",
   "id": "df472f92-bfec-4c43-abcf-df2a97fa0e6a",
   "metadata": {},
   "source": [
    "In this notebook, Data Science Tools and Ecosystem are summarized."
   ]
  },
  {
   "cell_type": "markdown",
   "id": "66784b68-6df3-428a-9b4d-16da9d7c982c",
   "metadata": {},
   "source": [
    "__Objectives:__\n",
    "* List popular languages for Data Science\n",
    "* List Packages, APIs, Datasets and Models for Data Science\n",
    "* Learn to use Jupyter Notebooks and JupyterLab\n",
    "* Learn about R, Rstudio and GitHub"
   ]
  },
  {
   "cell_type": "markdown",
   "id": "db7f87e8-8442-41a3-8749-85549b5b749a",
   "metadata": {},
   "source": [
    "Some of the popular languages that Data Scientists use are:\n",
    "1. Python\n",
    "2. R\n",
    "3. Julia"
   ]
  },
  {
   "cell_type": "markdown",
   "id": "8ae6aa11-91a2-481f-866b-b6d8dd028187",
   "metadata": {},
   "source": [
    "Some of the commonly used libraries used by Data Scientists include:\n",
    "1. Numpy (Python)\n",
    "2. Pandas (Python)\n",
    "3. ggplot (R)"
   ]
  },
  {
   "cell_type": "markdown",
   "id": "76fc9f95-d68e-4378-ad6c-30fc2a29e5a7",
   "metadata": {},
   "source": [
    "| Data Science Tools |\n",
    "| --- |\n",
    "| Jupyter (notebook, lab) |\n",
    "| TensorFlow |\n",
    "| Tableau |"
   ]
  },
  {
   "cell_type": "markdown",
   "id": "2df06b0f-34d9-4d6f-a834-e569e48c35b5",
   "metadata": {},
   "source": [
    "### Below are a few examples of evaluating arithmetic expressions in Python"
   ]
  },
  {
   "cell_type": "code",
   "execution_count": 1,
   "id": "10d9f931-dbd7-4bf8-a90b-5563db2902bf",
   "metadata": {
    "tags": []
   },
   "outputs": [
    {
     "data": {
      "text/plain": [
       "17"
      ]
     },
     "execution_count": 1,
     "metadata": {},
     "output_type": "execute_result"
    }
   ],
   "source": [
    "# This is a simple arithmetic expression to multiply then add integers\n",
    "(3*4)+5"
   ]
  },
  {
   "cell_type": "code",
   "execution_count": 2,
   "id": "c7dd9724-6701-40a4-8ec2-90a635c1ffc5",
   "metadata": {
    "tags": []
   },
   "outputs": [
    {
     "data": {
      "text/plain": [
       "3.3333333333333335"
      ]
     },
     "execution_count": 2,
     "metadata": {},
     "output_type": "execute_result"
    }
   ],
   "source": [
    "# This will convert 200 minutes to hours by deviding by 60\n",
    "200/60"
   ]
  },
  {
   "cell_type": "markdown",
   "id": "df3678fa-5c95-485e-939e-3f77889567a4",
   "metadata": {},
   "source": [
    "## Author\n",
    "Felix Trotter"
   ]
  }
 ],
 "metadata": {
  "kernelspec": {
   "display_name": "Python 3 (ipykernel)",
   "language": "python",
   "name": "python3"
  },
  "language_info": {
   "codemirror_mode": {
    "name": "ipython",
    "version": 3
   },
   "file_extension": ".py",
   "mimetype": "text/x-python",
   "name": "python",
   "nbconvert_exporter": "python",
   "pygments_lexer": "ipython3",
   "version": "3.9.18"
  },
  "widgets": {
   "application/vnd.jupyter.widget-state+json": {
    "state": {},
    "version_major": 2,
    "version_minor": 0
   }
  }
 },
 "nbformat": 4,
 "nbformat_minor": 5
}
